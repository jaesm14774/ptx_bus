{
 "cells": [
  {
   "cell_type": "code",
   "execution_count": 41,
   "metadata": {},
   "outputs": [],
   "source": [
    "from hashlib import sha1\n",
    "import hmac\n",
    "from wsgiref.handlers import format_date_time\n",
    "from time import mktime\n",
    "import base64\n",
    "import requests\n",
    "from pprint import pprint\n",
    "import pandas as pd\n",
    "import re\n",
    "import json\n",
    "import numpy as np\n",
    "\n",
    "app_id = 'app id'\n",
    "app_key = 'app key'\n",
    "class Auth():\n",
    "\n",
    "    def __init__(self, app_id, app_key):\n",
    "        self.app_id = app_id\n",
    "        self.app_key = app_key\n",
    "\n",
    "    def get_auth_header(self):\n",
    "        xdate = format_date_time(mktime(datetime.datetime.now().timetuple()))\n",
    "        hashed = hmac.new(self.app_key.encode('utf8'), ('x-date: ' + xdate).encode('utf8'), sha1)\n",
    "        signature = base64.b64encode(hashed.digest()).decode()\n",
    "\n",
    "        authorization = 'hmac username=\"' + self.app_id + '\", ' +                         'algorithm=\"hmac-sha1\", ' +                         'headers=\"x-date\", ' +                         'signature=\"' + signature + '\"'\n",
    "        return {\n",
    "            'Authorization': authorization,\n",
    "            'x-date': format_date_time(mktime(datetime.datetime.now().timetuple())),\n",
    "            'Accept - Encoding': 'gzip'\n",
    "        }\n",
    "\n",
    "a = Auth(app_id, app_key)"
   ]
  },
  {
   "cell_type": "code",
   "execution_count": 42,
   "metadata": {},
   "outputs": [],
   "source": [
    "import logging\n",
    "import datetime\n",
    "import time\n",
    "import os"
   ]
  },
  {
   "cell_type": "code",
   "execution_count": 43,
   "metadata": {},
   "outputs": [],
   "source": [
    "#抓出現在日期\n",
    "date_time=format(datetime.datetime.now(),'%Y-%m-%d %H:%M:%S')"
   ]
  },
  {
   "cell_type": "code",
   "execution_count": 44,
   "metadata": {},
   "outputs": [],
   "source": [
    "#file_path,log_path\n",
    "file_path='C:/Users/lenovon/Desktop/bus/'\n",
    "log_path='C:/Users/lenovon/Desktop/log_bus/'"
   ]
  },
  {
   "cell_type": "code",
   "execution_count": 45,
   "metadata": {},
   "outputs": [],
   "source": [
    "#建立log，紀錄資訊\n",
    "if os.path.isfile(log_path+date_time[:date_time.find(' ')]+'.txt'):\n",
    "    logging.basicConfig(level=logging.WARNING,#控制檯列印的日誌級別\n",
    "                        filename=log_path+date_time[:date_time.find(' ')]+'.txt',\n",
    "                        filemode='a') #模式有w和a，w就是寫模式，每次都會重新寫日誌，覆蓋之前的日誌;a是append的意思\n",
    "else:\n",
    "    logging.basicConfig(level=logging.WARNING,#控制檯列印的日誌級別\n",
    "                        filename=log_path+date_time[:date_time.find(' ')]+'.txt',\n",
    "                        filemode='w') #模式有w和a，w就是寫模式，每次都會重新寫日誌，覆蓋之前的日誌;a是append的意思"
   ]
  },
  {
   "cell_type": "code",
   "execution_count": 46,
   "metadata": {},
   "outputs": [],
   "source": [
    "#NewTaipei\n",
    "try:\n",
    "    response = requests.get('https://ptx.transportdata.tw/MOTC/v2/Bus/RealTimeByFrequency/City/NewTaipei?$top=10000&$format=JSON', \n",
    "                         headers=a.get_auth_header(),timeout=15)\n",
    "except:\n",
    "    logging.warning('Something happened:',exc_info=True)"
   ]
  },
  {
   "cell_type": "code",
   "execution_count": 47,
   "metadata": {},
   "outputs": [],
   "source": [
    "temp_New=pd.DataFrame(response.json())"
   ]
  },
  {
   "cell_type": "code",
   "execution_count": 48,
   "metadata": {},
   "outputs": [],
   "source": [
    "def RouteName_trans(x):\n",
    "    return(x['Zh_tw'])\n",
    "def SubRouteName_trans(x):\n",
    "    return(x['Zh_tw'])\n",
    "def BusPosition_trans(x):\n",
    "    a=np.array(list(x.values()))\n",
    "    a=np.round(a=a,decimals=4)\n",
    "    return((a[0],a[1]))"
   ]
  },
  {
   "cell_type": "code",
   "execution_count": 49,
   "metadata": {},
   "outputs": [],
   "source": [
    "temp_New['RouteName']=temp_New['RouteName'].map(RouteName_trans)\n",
    "temp_New['SubRouteName']=temp_New['SubRouteName'].map(SubRouteName_trans)\n",
    "temp_New['BusPosition']=temp_New['BusPosition'].map(BusPosition_trans)"
   ]
  },
  {
   "cell_type": "code",
   "execution_count": 50,
   "metadata": {},
   "outputs": [],
   "source": [
    "#Taipei\n",
    "try:\n",
    "    response = requests.get('https://ptx.transportdata.tw/MOTC/v2/Bus/RealTimeByFrequency/City/Taipei?$top=10000&$format=JSON', \n",
    "                             headers=a.get_auth_header(),timeout=15)\n",
    "except:\n",
    "    logging.warning('Something happened:',exc_info=True)"
   ]
  },
  {
   "cell_type": "code",
   "execution_count": 51,
   "metadata": {},
   "outputs": [],
   "source": [
    "temp_T=pd.DataFrame(response.json())"
   ]
  },
  {
   "cell_type": "code",
   "execution_count": 52,
   "metadata": {},
   "outputs": [],
   "source": [
    "temp_T['RouteName']=temp_T['RouteName'].map(RouteName_trans)\n",
    "temp_T['SubRouteName']=temp_T['SubRouteName'].map(SubRouteName_trans)\n",
    "temp_T['BusPosition']=temp_T['BusPosition'].map(BusPosition_trans)"
   ]
  },
  {
   "cell_type": "code",
   "execution_count": 53,
   "metadata": {},
   "outputs": [],
   "source": [
    "TEMP=pd.concat([temp_T,temp_New],ignore_index=True)"
   ]
  },
  {
   "cell_type": "code",
   "execution_count": 54,
   "metadata": {},
   "outputs": [],
   "source": [
    "#修改時間格式\n",
    "def revise_time(x):\n",
    "    return datetime.datetime.strftime(datetime.datetime.strptime(x,'%Y-%m-%dT%H:%M:%S%z'),'%Y-%m-%d %H:%M:%S')"
   ]
  },
  {
   "cell_type": "code",
   "execution_count": 55,
   "metadata": {},
   "outputs": [
    {
     "data": {
      "text/plain": [
       "Index(['PlateNumb', 'OperatorID', 'RouteUID', 'RouteID', 'RouteName',\n",
       "       'SubRouteUID', 'SubRouteID', 'SubRouteName', 'Direction', 'BusPosition',\n",
       "       'Speed', 'Azimuth', 'DutyStatus', 'BusStatus', 'MessageType', 'GPSTime',\n",
       "       'SrcUpdateTime', 'UpdateTime'],\n",
       "      dtype='object')"
      ]
     },
     "execution_count": 55,
     "metadata": {},
     "output_type": "execute_result"
    }
   ],
   "source": [
    "TEMP.columns"
   ]
  },
  {
   "cell_type": "code",
   "execution_count": 56,
   "metadata": {},
   "outputs": [],
   "source": [
    "TEMP['GPSTime']=TEMP['GPSTime'].map(revise_time)\n",
    "TEMP['SrcUpdateTime']=TEMP['SrcUpdateTime'].map(revise_time)\n",
    "TEMP['UpdateTime']=TEMP['UpdateTime'].map(revise_time)"
   ]
  },
  {
   "cell_type": "code",
   "execution_count": 57,
   "metadata": {},
   "outputs": [],
   "source": [
    "#建立csv檔，以每天凌晨三點為界線\n",
    "try:\n",
    "    if (datetime.datetime.strptime(date_time,'%Y-%m-%d %H:%M:%S')-datetime.datetime.strptime(date_time[:date_time.find(' ')]+' 3:00:00','%Y-%m-%d %H:%M:%S')).total_seconds()>0: \n",
    "        if os.path.isfile(file_path+date_time[:date_time.find(' ')]+'.csv'):\n",
    "            #有檔案\n",
    "            TEMP.to_csv(file_path+date_time[:date_time.find(' ')]+'.csv',index=0,mode='a',header=0)\n",
    "        else:\n",
    "            #無檔案\n",
    "            TEMP.to_csv(file_path+date_time[:date_time.find(' ')]+'.csv',index=0)\n",
    "    else:\n",
    "        date_time_r=datetime.datetime.strftime(datetime.datetime.strptime(date_time[:date_time.find(' ')],'%Y-%m-%d')-datetime.timedelta(days=1),'%Y-%m-%d')\n",
    "        if os.path.isfile(file_path+date_time_r+'.csv'):\n",
    "            #有檔案\n",
    "            TEMP.to_csv(file_path+date_time_r+'.csv',index=0,mode='a',header=0)\n",
    "        else:\n",
    "            #無檔案\n",
    "            TEMP.to_csv(file_path+date_time_r+'.csv',index=0)\n",
    "except:\n",
    "    logging.warning('File cannot establish well due to:',exc_info=True)"
   ]
  },
  {
   "cell_type": "code",
   "execution_count": 58,
   "metadata": {},
   "outputs": [],
   "source": [
    "#建立csv檔，以每天凌晨三點為界線，寫進SQL資料庫\n",
    "import pymysql\n",
    "import MySQLdb\n",
    "from sqlalchemy import create_engine\n",
    "import os"
   ]
  },
  {
   "cell_type": "code",
   "execution_count": 59,
   "metadata": {},
   "outputs": [],
   "source": [
    "TEMP['BusPosition']=TEMP['BusPosition'].astype('str')"
   ]
  },
  {
   "cell_type": "code",
   "execution_count": 60,
   "metadata": {},
   "outputs": [],
   "source": [
    "conn = pymysql.connect(\n",
    "    host='ip',\n",
    "    port='port',\n",
    "    user='username',\n",
    "    password='password',\n",
    "    db='dbname',\n",
    "    charset='utf8mb4')\n",
    "engine = create_engine('mysql+mysqldb://username:password@ip:port/dbname?charset=utf8mb4')\n",
    "all_table=pd.read_sql_query('Show tables',conn)"
   ]
  },
  {
   "cell_type": "code",
   "execution_count": 61,
   "metadata": {},
   "outputs": [
    {
     "data": {
      "text/html": [
       "<div>\n",
       "<style scoped>\n",
       "    .dataframe tbody tr th:only-of-type {\n",
       "        vertical-align: middle;\n",
       "    }\n",
       "\n",
       "    .dataframe tbody tr th {\n",
       "        vertical-align: top;\n",
       "    }\n",
       "\n",
       "    .dataframe thead th {\n",
       "        text-align: right;\n",
       "    }\n",
       "</style>\n",
       "<table border=\"1\" class=\"dataframe\">\n",
       "  <thead>\n",
       "    <tr style=\"text-align: right;\">\n",
       "      <th></th>\n",
       "      <th>Tables_in_test_bus</th>\n",
       "    </tr>\n",
       "  </thead>\n",
       "  <tbody>\n",
       "    <tr>\n",
       "      <td>0</td>\n",
       "      <td>T20200116</td>\n",
       "    </tr>\n",
       "  </tbody>\n",
       "</table>\n",
       "</div>"
      ],
      "text/plain": [
       "  Tables_in_test_bus\n",
       "0          T20200116"
      ]
     },
     "execution_count": 61,
     "metadata": {},
     "output_type": "execute_result"
    }
   ],
   "source": [
    "all_table"
   ]
  },
  {
   "cell_type": "code",
   "execution_count": 62,
   "metadata": {},
   "outputs": [],
   "source": [
    "cursor=conn.cursor()"
   ]
  },
  {
   "cell_type": "code",
   "execution_count": 63,
   "metadata": {},
   "outputs": [],
   "source": [
    "try:\n",
    "    if (datetime.datetime.strptime(date_time,'%Y-%m-%d %H:%M:%S')-datetime.datetime.strptime(date_time[:date_time.find(' ')]+' 3:00:00','%Y-%m-%d %H:%M:%S')).total_seconds()>0: \n",
    "        date_time_r=format(datetime.datetime.strptime(date_time,'%Y-%m-%d %H:%M:%S'),'%Y%m%d')\n",
    "        if ('T'+date_time_r) in all_table['Tables_in_test_bus'].values:\n",
    "            #有檔案\n",
    "            for i in range(0,TEMP.shape[0]):\n",
    "                cursor.execute('insert into '+'T'+date_time_r+'(%s,%s,%s,%s,%s,%s,%s,%s,%s,%s,%s,%s,%s,%s,%s,%s,%s,%s) values (\"%s\",\"%s\",\"%s\",\"%s\",\"%s\",\"%s\",\"%s\",\"%s\",\"%s\",\"%s\",%f,%f,\"%s\",\"%s\",\"%s\",\"%s\",\"%s\",\"%s\")' % tuple(TEMP.columns.values.tolist()+TEMP.iloc[i,:].values.tolist()))\n",
    "            conn.commit()\n",
    "        else:\n",
    "            date_time_r=format(datetime.datetime.strptime(date_time,'%Y-%m-%d %H:%M:%S'),'%Y%m%d')\n",
    "            cursor.execute('create table '+'T'+date_time_r+' (aid int not NULL AUTO_INCREMENT,%s varchar(255),%s varchar(255),%s varchar(255),%s varchar(255),%s varchar(255),%s varchar(255),%s varchar(255),%s varchar(255),%s varchar(255),%s varchar(255),%s float,%s float,%s varchar(255),%s varchar(255),%s varchar(255),%s DATETIME,%s DATETIME,%s DATETIME,primary key(aid))' % tuple(TEMP.columns.values.tolist()))\n",
    "            conn.commit()\n",
    "            #無檔案\n",
    "            for i in range(0,TEMP.shape[0]):\n",
    "                cursor.execute('insert into '+'T'+date_time_r+'(%s,%s,%s,%s,%s,%s,%s,%s,%s,%s,%s,%s,%s,%s,%s,%s,%s,%s) values (\"%s\",\"%s\",\"%s\",\"%s\",\"%s\",\"%s\",\"%s\",\"%s\",\"%s\",\"%s\",%f,%f,\"%s\",\"%s\",\"%s\",\"%s\",\"%s\",\"%s\")' % tuple(TEMP.columns.values.tolist()+TEMP.iloc[i,:].values.tolist()))\n",
    "            conn.commit()\n",
    "    else:\n",
    "        date_time_r=datetime.datetime.strftime(datetime.datetime.strptime(date_time,'%Y-%m-%d %H:%M:%S')-datetime.timedelta(days=1),'%Y%m%d')\n",
    "        if ('T'+date_time_r) in all_table['Tables_in_test_bus'].values:\n",
    "            #有檔案\n",
    "            for i in range(0,TEMP.shape[0]):\n",
    "                cursor.execute('insert into '+'T'+date_time_r+'(%s,%s,%s,%s,%s,%s,%s,%s,%s,%s,%s,%s,%s,%s,%s,%s,%s,%s) values (\"%s\",\"%s\",\"%s\",\"%s\",\"%s\",\"%s\",\"%s\",\"%s\",\"%s\",\"%s\",%f,%f,\"%s\",\"%s\",\"%s\",\"%s\",\"%s\",\"%s\")' % tuple(TEMP.columns.values.tolist()+TEMP.iloc[i,:].values.tolist()))\n",
    "            conn.commit()\n",
    "        else:\n",
    "            cursor.execute('create table '+'T'+date_time_r+' (aid int not NULL AUTO_INCREMENT,%s varchar(255),%s varchar(255),%s varchar(255),%s varchar(255),%s varchar(255),%s varchar(255),%s varchar(255),%s varchar(255),%s varchar(255),%s varchar(255),%s float,%s float,%s varchar(255),%s varchar(255),%s varchar(255),%s DATETIME,%s DATETIME,%s DATETIME,primary key(aid))' % tuple(TEMP.columns.values.tolist()))\n",
    "            conn.commit()\n",
    "            #無檔案\n",
    "            for i in range(0,TEMP.shape[0]):\n",
    "                cursor.execute('insert into '+'T'+date_time_r+'(%s,%s,%s,%s,%s,%s,%s,%s,%s,%s,%s,%s,%s,%s,%s,%s,%s,%s) values (\"%s\",\"%s\",\"%s\",\"%s\",\"%s\",\"%s\",\"%s\",\"%s\",\"%s\",\"%s\",%f,%f,\"%s\",\"%s\",\"%s\",\"%s\",\"%s\",\"%s\")' % tuple(TEMP.columns.values.tolist()+TEMP.iloc[i,:].values.tolist()))\n",
    "            conn.commit()\n",
    "    conn.close()\n",
    "except:\n",
    "    logging.warning('File cannot establish well due to:',exc_info=True)\n",
    "    conn.close()"
   ]
  },
  {
   "cell_type": "code",
   "execution_count": null,
   "metadata": {},
   "outputs": [],
   "source": []
  }
 ],
 "metadata": {
  "kernelspec": {
   "display_name": "Python 3",
   "language": "python",
   "name": "python3"
  },
  "language_info": {
   "codemirror_mode": {
    "name": "ipython",
    "version": 3
   },
   "file_extension": ".py",
   "mimetype": "text/x-python",
   "name": "python",
   "nbconvert_exporter": "python",
   "pygments_lexer": "ipython3",
   "version": "3.7.4"
  }
 },
 "nbformat": 4,
 "nbformat_minor": 2
}
